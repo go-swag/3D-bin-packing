{
 "cells": [
  {
   "metadata": {
    "ExecuteTime": {
     "end_time": "2024-10-01T16:58:31.736081Z",
     "start_time": "2024-10-01T16:58:31.730499Z"
    }
   },
   "cell_type": "code",
   "source": [
    "from py3dbp import Packer, Bin, Item\n",
    "from py3dbp.main import AlexPainter"
   ],
   "id": "d1323995734297ac",
   "outputs": [],
   "execution_count": 102
  },
  {
   "cell_type": "code",
   "id": "initial_id",
   "metadata": {
    "collapsed": true,
    "ExecuteTime": {
     "end_time": "2024-10-01T16:58:31.743440Z",
     "start_time": "2024-10-01T16:58:31.739770Z"
    }
   },
   "source": [
    "boxes = [\n",
    "    {\"name\": \"F23\", \"WHD\": (9.2, 9.2, 5)},\n",
    "    {\"name\": \"F33\", \"WHD\": (11.8, 14, 8)},\n",
    "    {\"name\": \"F44\", \"WHD\": (20.7, 15.6, 9.1)},\n",
    "    {\"name\": \"F45\", \"WHD\": (23.1, 14, 8)},\n",
    "    {\"name\": \"F46\", \"WHD\": (24.5, 19.4, 2.2)},\n",
    "    {\"name\": \"F52\", \"WHD\": (26.5, 19.5, 6)},\n",
    "    {\"name\": \"F56\", \"WHD\": (26, 20, 10.5)},\n",
    "    {\"name\": \"F59\", \"WHD\": (32, 18.2, 9)},\n",
    "    {\"name\": \"F62\", \"WHD\": (30.2, 23.3, 8.8)},\n",
    "    {\"name\": \"F65\", \"WHD\": (35, 25, 5)},\n",
    "    {\"name\": \"F71\", \"WHD\": (35, 26, 10)},\n",
    "    {\"name\": \"F79\", \"WHD\": (36.4, 31.4, 12.5)},\n",
    "    {\"name\": \"F93\", \"WHD\": (44, 33.9, 15.9)},\n",
    "    {\"name\": \"F112\", \"WHD\": (42.5, 52, 18)},\n",
    "]"
   ],
   "outputs": [],
   "execution_count": 103
  },
  {
   "metadata": {
    "ExecuteTime": {
     "end_time": "2024-10-01T16:58:31.752218Z",
     "start_time": "2024-10-01T16:58:31.749242Z"
    }
   },
   "cell_type": "code",
   "source": [
    "items = [\n",
    "    Item(\n",
    "        partno=\"Notebook\",\n",
    "        name=\"A5 recycled leather notebook\",\n",
    "        typeof=\"cube\",\n",
    "        WHD=(20.8, 13.5, 1),\n",
    "        weight=219,\n",
    "        level=1,\n",
    "        loadbear=100,\n",
    "        updown=True,\n",
    "        color=\"#FF0000\",\n",
    "    ),\n",
    "    Item(\n",
    "        partno=\"T Shirt\",\n",
    "        name=\"Iqoniq Brett recycled cotton t-shirt\",\n",
    "        typeof=\"cube\",\n",
    "        WHD=(25, 19, 1),\n",
    "        weight=150,\n",
    "        level=1,\n",
    "        loadbear=100,\n",
    "        updown=True,\n",
    "        color=\"#FF00FF\",\n",
    "    ),\n",
    "    Item(\n",
    "        partno=\"Water bottle\",\n",
    "        name=\"Water bottle\",\n",
    "        typeof=\"cube\",\n",
    "        WHD=(25.5, 8.4, 8),\n",
    "        weight=150,\n",
    "        level=1,\n",
    "        loadbear=100,\n",
    "        updown=True,\n",
    "        color=\"#FFFF00\",\n",
    "    ),\n",
    "    Item(\n",
    "        partno=\"Mug\",\n",
    "        name=\"Mug\",\n",
    "        typeof=\"cube\",\n",
    "        WHD=(12, 9.5, 9.5),\n",
    "        weight=150,\n",
    "        level=1,\n",
    "        loadbear=100,\n",
    "        updown=True,\n",
    "        color=\"#b5b5b5\",\n",
    "    ),\n",
    "]"
   ],
   "id": "ef041084a0da337b",
   "outputs": [],
   "execution_count": 104
  },
  {
   "metadata": {
    "ExecuteTime": {
     "end_time": "2024-10-01T16:58:31.758002Z",
     "start_time": "2024-10-01T16:58:31.756783Z"
    }
   },
   "cell_type": "code",
   "source": "",
   "id": "c2cc2fbaabb49997",
   "outputs": [],
   "execution_count": null
  },
  {
   "metadata": {
    "ExecuteTime": {
     "end_time": "2024-10-01T16:58:31.766288Z",
     "start_time": "2024-10-01T16:58:31.762044Z"
    }
   },
   "cell_type": "code",
   "source": [
    "for box in boxes:\n",
    "\n",
    "    packer = Packer()\n",
    "\n",
    "    bin = Bin(partno=box[\"name\"], WHD=box[\"WHD\"], max_weight=5000, put_type=1)\n",
    "\n",
    "    packer.addBin(bin)\n",
    "    for item in items:\n",
    "\n",
    "        packer.addItem(item)\n",
    "\n",
    "    packer.pack(\n",
    "        bigger_first=True,\n",
    "        distribute_items=False,\n",
    "        fix_point=False,  # Try switching fix_point=True/False to compare the results\n",
    "    )\n",
    "\n",
    "    if not bin.unfitted_items:\n",
    "        print(bin.partno)\n",
    "        break"
   ],
   "id": "696b3ef91f4e7888",
   "outputs": [
    {
     "name": "stdout",
     "output_type": "stream",
     "text": [
      "F79\n"
     ]
    }
   ],
   "execution_count": 105
  },
  {
   "metadata": {
    "ExecuteTime": {
     "end_time": "2024-10-01T16:58:31.852853Z",
     "start_time": "2024-10-01T16:58:31.831635Z"
    }
   },
   "cell_type": "code",
   "source": [
    "painter = AlexPainter(bin)\n",
    "fig = painter.plotBoxAndItems(title=bin.partno, alpha=0.2, write_num=True)\n",
    "fig.show()"
   ],
   "id": "338fda7a8a2263b7",
   "outputs": [
    {
     "data": {
      "application/vnd.plotly.v1+json": {
       "data": [
        {
         "color": "black",
         "i": [
          0,
          1,
          2
         ],
         "j": [
          1,
          2,
          3
         ],
         "k": [
          2,
          3,
          0
         ],
         "opacity": 0.2,
         "x": [
          0,
          36.0,
          36.0,
          0
         ],
         "y": [
          0,
          0,
          31.0,
          31.0
         ],
         "z": [
          0,
          0,
          0,
          0
         ],
         "type": "mesh3d"
        },
        {
         "color": "black",
         "i": [
          0,
          1,
          2
         ],
         "j": [
          1,
          2,
          3
         ],
         "k": [
          2,
          3,
          0
         ],
         "opacity": 0.2,
         "x": [
          0,
          36.0,
          36.0,
          0
         ],
         "y": [
          0,
          0,
          31.0,
          31.0
         ],
         "z": [
          12.0,
          12.0,
          12.0,
          12.0
         ],
         "type": "mesh3d"
        },
        {
         "color": "black",
         "i": [
          0,
          1,
          2
         ],
         "j": [
          1,
          2,
          3
         ],
         "k": [
          2,
          3,
          0
         ],
         "opacity": 0.2,
         "x": [
          0,
          36.0,
          36.0,
          0
         ],
         "y": [
          0,
          0,
          0,
          0
         ],
         "z": [
          0,
          0,
          12.0,
          12.0
         ],
         "type": "mesh3d"
        },
        {
         "color": "black",
         "i": [
          0,
          1,
          2
         ],
         "j": [
          1,
          2,
          3
         ],
         "k": [
          2,
          3,
          0
         ],
         "opacity": 0.2,
         "x": [
          36.0,
          0,
          0,
          36.0
         ],
         "y": [
          31.0,
          31.0,
          31.0,
          31.0
         ],
         "z": [
          0,
          0,
          12.0,
          12.0
         ],
         "type": "mesh3d"
        },
        {
         "color": "black",
         "i": [
          0,
          1,
          2
         ],
         "j": [
          1,
          2,
          3
         ],
         "k": [
          2,
          3,
          0
         ],
         "opacity": 0.2,
         "x": [
          0,
          0,
          0,
          0
         ],
         "y": [
          0,
          31.0,
          31.0,
          0
         ],
         "z": [
          0,
          0,
          12.0,
          12.0
         ],
         "type": "mesh3d"
        },
        {
         "color": "black",
         "i": [
          0,
          1,
          2
         ],
         "j": [
          1,
          2,
          3
         ],
         "k": [
          2,
          3,
          0
         ],
         "opacity": 0.2,
         "x": [
          36.0,
          36.0,
          36.0,
          36.0
         ],
         "y": [
          0,
          31.0,
          31.0,
          0
         ],
         "z": [
          0,
          0,
          12.0,
          12.0
         ],
         "type": "mesh3d"
        },
        {
         "color": "#FFFF00",
         "i": [
          0,
          1,
          2
         ],
         "j": [
          1,
          2,
          3
         ],
         "k": [
          2,
          3,
          0
         ],
         "opacity": 0.2,
         "x": [
          0,
          26.0,
          26.0,
          0
         ],
         "y": [
          0,
          0,
          8.0,
          8.0
         ],
         "z": [
          0,
          0,
          0,
          0
         ],
         "type": "mesh3d"
        },
        {
         "color": "#FFFF00",
         "i": [
          0,
          1,
          2
         ],
         "j": [
          1,
          2,
          3
         ],
         "k": [
          2,
          3,
          0
         ],
         "opacity": 0.2,
         "x": [
          0,
          26.0,
          26.0,
          0
         ],
         "y": [
          0,
          0,
          8.0,
          8.0
         ],
         "z": [
          8.0,
          8.0,
          8.0,
          8.0
         ],
         "type": "mesh3d"
        },
        {
         "color": "#FFFF00",
         "i": [
          0,
          1,
          2
         ],
         "j": [
          1,
          2,
          3
         ],
         "k": [
          2,
          3,
          0
         ],
         "opacity": 0.2,
         "x": [
          0,
          26.0,
          26.0,
          0
         ],
         "y": [
          0,
          0,
          0,
          0
         ],
         "z": [
          0,
          0,
          8.0,
          8.0
         ],
         "type": "mesh3d"
        },
        {
         "color": "#FFFF00",
         "i": [
          0,
          1,
          2
         ],
         "j": [
          1,
          2,
          3
         ],
         "k": [
          2,
          3,
          0
         ],
         "opacity": 0.2,
         "x": [
          26.0,
          0,
          0,
          26.0
         ],
         "y": [
          8.0,
          8.0,
          8.0,
          8.0
         ],
         "z": [
          0,
          0,
          8.0,
          8.0
         ],
         "type": "mesh3d"
        },
        {
         "color": "#FFFF00",
         "i": [
          0,
          1,
          2
         ],
         "j": [
          1,
          2,
          3
         ],
         "k": [
          2,
          3,
          0
         ],
         "opacity": 0.2,
         "x": [
          0,
          0,
          0,
          0
         ],
         "y": [
          0,
          8.0,
          8.0,
          0
         ],
         "z": [
          0,
          0,
          8.0,
          8.0
         ],
         "type": "mesh3d"
        },
        {
         "color": "#FFFF00",
         "i": [
          0,
          1,
          2
         ],
         "j": [
          1,
          2,
          3
         ],
         "k": [
          2,
          3,
          0
         ],
         "opacity": 0.2,
         "x": [
          26.0,
          26.0,
          26.0,
          26.0
         ],
         "y": [
          0,
          8.0,
          8.0,
          0
         ],
         "z": [
          0,
          0,
          8.0,
          8.0
         ],
         "type": "mesh3d"
        },
        {
         "mode": "text",
         "text": [
          "Water bottle"
         ],
         "x": [
          13.0
         ],
         "y": [
          4.0
         ],
         "z": [
          4.0
         ],
         "type": "scatter3d"
        },
        {
         "color": "#FF00FF",
         "i": [
          0,
          1,
          2
         ],
         "j": [
          1,
          2,
          3
         ],
         "k": [
          2,
          3,
          0
         ],
         "opacity": 0.2,
         "x": [
          0,
          25.0,
          25.0,
          0
         ],
         "y": [
          8.0,
          8.0,
          27.0,
          27.0
         ],
         "z": [
          0,
          0,
          0,
          0
         ],
         "type": "mesh3d"
        },
        {
         "color": "#FF00FF",
         "i": [
          0,
          1,
          2
         ],
         "j": [
          1,
          2,
          3
         ],
         "k": [
          2,
          3,
          0
         ],
         "opacity": 0.2,
         "x": [
          0,
          25.0,
          25.0,
          0
         ],
         "y": [
          8.0,
          8.0,
          27.0,
          27.0
         ],
         "z": [
          1.0,
          1.0,
          1.0,
          1.0
         ],
         "type": "mesh3d"
        },
        {
         "color": "#FF00FF",
         "i": [
          0,
          1,
          2
         ],
         "j": [
          1,
          2,
          3
         ],
         "k": [
          2,
          3,
          0
         ],
         "opacity": 0.2,
         "x": [
          0,
          25.0,
          25.0,
          0
         ],
         "y": [
          8.0,
          8.0,
          8.0,
          8.0
         ],
         "z": [
          0,
          0,
          1.0,
          1.0
         ],
         "type": "mesh3d"
        },
        {
         "color": "#FF00FF",
         "i": [
          0,
          1,
          2
         ],
         "j": [
          1,
          2,
          3
         ],
         "k": [
          2,
          3,
          0
         ],
         "opacity": 0.2,
         "x": [
          25.0,
          0,
          0,
          25.0
         ],
         "y": [
          27.0,
          27.0,
          27.0,
          27.0
         ],
         "z": [
          0,
          0,
          1.0,
          1.0
         ],
         "type": "mesh3d"
        },
        {
         "color": "#FF00FF",
         "i": [
          0,
          1,
          2
         ],
         "j": [
          1,
          2,
          3
         ],
         "k": [
          2,
          3,
          0
         ],
         "opacity": 0.2,
         "x": [
          0,
          0,
          0,
          0
         ],
         "y": [
          8.0,
          27.0,
          27.0,
          8.0
         ],
         "z": [
          0,
          0,
          1.0,
          1.0
         ],
         "type": "mesh3d"
        },
        {
         "color": "#FF00FF",
         "i": [
          0,
          1,
          2
         ],
         "j": [
          1,
          2,
          3
         ],
         "k": [
          2,
          3,
          0
         ],
         "opacity": 0.2,
         "x": [
          25.0,
          25.0,
          25.0,
          25.0
         ],
         "y": [
          8.0,
          27.0,
          27.0,
          8.0
         ],
         "z": [
          0,
          0,
          1.0,
          1.0
         ],
         "type": "mesh3d"
        },
        {
         "mode": "text",
         "text": [
          "T Shirt"
         ],
         "x": [
          12.5
         ],
         "y": [
          17.5
         ],
         "z": [
          0.5
         ],
         "type": "scatter3d"
        },
        {
         "color": "#FF0000",
         "i": [
          0,
          1,
          2
         ],
         "j": [
          1,
          2,
          3
         ],
         "k": [
          2,
          3,
          0
         ],
         "opacity": 0.2,
         "x": [
          0,
          21.0,
          21.0,
          0
         ],
         "y": [
          0,
          0,
          14.0,
          14.0
         ],
         "z": [
          8.0,
          8.0,
          8.0,
          8.0
         ],
         "type": "mesh3d"
        },
        {
         "color": "#FF0000",
         "i": [
          0,
          1,
          2
         ],
         "j": [
          1,
          2,
          3
         ],
         "k": [
          2,
          3,
          0
         ],
         "opacity": 0.2,
         "x": [
          0,
          21.0,
          21.0,
          0
         ],
         "y": [
          0,
          0,
          14.0,
          14.0
         ],
         "z": [
          9.0,
          9.0,
          9.0,
          9.0
         ],
         "type": "mesh3d"
        },
        {
         "color": "#FF0000",
         "i": [
          0,
          1,
          2
         ],
         "j": [
          1,
          2,
          3
         ],
         "k": [
          2,
          3,
          0
         ],
         "opacity": 0.2,
         "x": [
          0,
          21.0,
          21.0,
          0
         ],
         "y": [
          0,
          0,
          0,
          0
         ],
         "z": [
          8.0,
          8.0,
          9.0,
          9.0
         ],
         "type": "mesh3d"
        },
        {
         "color": "#FF0000",
         "i": [
          0,
          1,
          2
         ],
         "j": [
          1,
          2,
          3
         ],
         "k": [
          2,
          3,
          0
         ],
         "opacity": 0.2,
         "x": [
          21.0,
          0,
          0,
          21.0
         ],
         "y": [
          14.0,
          14.0,
          14.0,
          14.0
         ],
         "z": [
          8.0,
          8.0,
          9.0,
          9.0
         ],
         "type": "mesh3d"
        },
        {
         "color": "#FF0000",
         "i": [
          0,
          1,
          2
         ],
         "j": [
          1,
          2,
          3
         ],
         "k": [
          2,
          3,
          0
         ],
         "opacity": 0.2,
         "x": [
          0,
          0,
          0,
          0
         ],
         "y": [
          0,
          14.0,
          14.0,
          0
         ],
         "z": [
          8.0,
          8.0,
          9.0,
          9.0
         ],
         "type": "mesh3d"
        },
        {
         "color": "#FF0000",
         "i": [
          0,
          1,
          2
         ],
         "j": [
          1,
          2,
          3
         ],
         "k": [
          2,
          3,
          0
         ],
         "opacity": 0.2,
         "x": [
          21.0,
          21.0,
          21.0,
          21.0
         ],
         "y": [
          0,
          14.0,
          14.0,
          0
         ],
         "z": [
          8.0,
          8.0,
          9.0,
          9.0
         ],
         "type": "mesh3d"
        },
        {
         "mode": "text",
         "text": [
          "Notebook"
         ],
         "x": [
          10.5
         ],
         "y": [
          7.0
         ],
         "z": [
          8.5
         ],
         "type": "scatter3d"
        },
        {
         "color": "#b5b5b5",
         "i": [
          0,
          1,
          2
         ],
         "j": [
          1,
          2,
          3
         ],
         "k": [
          2,
          3,
          0
         ],
         "opacity": 0.2,
         "x": [
          26.0,
          36.0,
          36.0,
          26.0
         ],
         "y": [
          0,
          0,
          12.0,
          12.0
         ],
         "z": [
          0,
          0,
          0,
          0
         ],
         "type": "mesh3d"
        },
        {
         "color": "#b5b5b5",
         "i": [
          0,
          1,
          2
         ],
         "j": [
          1,
          2,
          3
         ],
         "k": [
          2,
          3,
          0
         ],
         "opacity": 0.2,
         "x": [
          26.0,
          36.0,
          36.0,
          26.0
         ],
         "y": [
          0,
          0,
          12.0,
          12.0
         ],
         "z": [
          10.0,
          10.0,
          10.0,
          10.0
         ],
         "type": "mesh3d"
        },
        {
         "color": "#b5b5b5",
         "i": [
          0,
          1,
          2
         ],
         "j": [
          1,
          2,
          3
         ],
         "k": [
          2,
          3,
          0
         ],
         "opacity": 0.2,
         "x": [
          26.0,
          36.0,
          36.0,
          26.0
         ],
         "y": [
          0,
          0,
          0,
          0
         ],
         "z": [
          0,
          0,
          10.0,
          10.0
         ],
         "type": "mesh3d"
        },
        {
         "color": "#b5b5b5",
         "i": [
          0,
          1,
          2
         ],
         "j": [
          1,
          2,
          3
         ],
         "k": [
          2,
          3,
          0
         ],
         "opacity": 0.2,
         "x": [
          36.0,
          26.0,
          26.0,
          36.0
         ],
         "y": [
          12.0,
          12.0,
          12.0,
          12.0
         ],
         "z": [
          0,
          0,
          10.0,
          10.0
         ],
         "type": "mesh3d"
        },
        {
         "color": "#b5b5b5",
         "i": [
          0,
          1,
          2
         ],
         "j": [
          1,
          2,
          3
         ],
         "k": [
          2,
          3,
          0
         ],
         "opacity": 0.2,
         "x": [
          26.0,
          26.0,
          26.0,
          26.0
         ],
         "y": [
          0,
          12.0,
          12.0,
          0
         ],
         "z": [
          0,
          0,
          10.0,
          10.0
         ],
         "type": "mesh3d"
        },
        {
         "color": "#b5b5b5",
         "i": [
          0,
          1,
          2
         ],
         "j": [
          1,
          2,
          3
         ],
         "k": [
          2,
          3,
          0
         ],
         "opacity": 0.2,
         "x": [
          36.0,
          36.0,
          36.0,
          36.0
         ],
         "y": [
          0,
          12.0,
          12.0,
          0
         ],
         "z": [
          0,
          0,
          10.0,
          10.0
         ],
         "type": "mesh3d"
        },
        {
         "mode": "text",
         "text": [
          "Mug"
         ],
         "x": [
          31.0
         ],
         "y": [
          6.0
         ],
         "z": [
          5.0
         ],
         "type": "scatter3d"
        }
       ],
       "layout": {
        "template": {
         "data": {
          "histogram2dcontour": [
           {
            "type": "histogram2dcontour",
            "colorbar": {
             "outlinewidth": 0,
             "ticks": ""
            },
            "colorscale": [
             [
              0.0,
              "#0d0887"
             ],
             [
              0.1111111111111111,
              "#46039f"
             ],
             [
              0.2222222222222222,
              "#7201a8"
             ],
             [
              0.3333333333333333,
              "#9c179e"
             ],
             [
              0.4444444444444444,
              "#bd3786"
             ],
             [
              0.5555555555555556,
              "#d8576b"
             ],
             [
              0.6666666666666666,
              "#ed7953"
             ],
             [
              0.7777777777777778,
              "#fb9f3a"
             ],
             [
              0.8888888888888888,
              "#fdca26"
             ],
             [
              1.0,
              "#f0f921"
             ]
            ]
           }
          ],
          "choropleth": [
           {
            "type": "choropleth",
            "colorbar": {
             "outlinewidth": 0,
             "ticks": ""
            }
           }
          ],
          "histogram2d": [
           {
            "type": "histogram2d",
            "colorbar": {
             "outlinewidth": 0,
             "ticks": ""
            },
            "colorscale": [
             [
              0.0,
              "#0d0887"
             ],
             [
              0.1111111111111111,
              "#46039f"
             ],
             [
              0.2222222222222222,
              "#7201a8"
             ],
             [
              0.3333333333333333,
              "#9c179e"
             ],
             [
              0.4444444444444444,
              "#bd3786"
             ],
             [
              0.5555555555555556,
              "#d8576b"
             ],
             [
              0.6666666666666666,
              "#ed7953"
             ],
             [
              0.7777777777777778,
              "#fb9f3a"
             ],
             [
              0.8888888888888888,
              "#fdca26"
             ],
             [
              1.0,
              "#f0f921"
             ]
            ]
           }
          ],
          "heatmap": [
           {
            "type": "heatmap",
            "colorbar": {
             "outlinewidth": 0,
             "ticks": ""
            },
            "colorscale": [
             [
              0.0,
              "#0d0887"
             ],
             [
              0.1111111111111111,
              "#46039f"
             ],
             [
              0.2222222222222222,
              "#7201a8"
             ],
             [
              0.3333333333333333,
              "#9c179e"
             ],
             [
              0.4444444444444444,
              "#bd3786"
             ],
             [
              0.5555555555555556,
              "#d8576b"
             ],
             [
              0.6666666666666666,
              "#ed7953"
             ],
             [
              0.7777777777777778,
              "#fb9f3a"
             ],
             [
              0.8888888888888888,
              "#fdca26"
             ],
             [
              1.0,
              "#f0f921"
             ]
            ]
           }
          ],
          "heatmapgl": [
           {
            "type": "heatmapgl",
            "colorbar": {
             "outlinewidth": 0,
             "ticks": ""
            },
            "colorscale": [
             [
              0.0,
              "#0d0887"
             ],
             [
              0.1111111111111111,
              "#46039f"
             ],
             [
              0.2222222222222222,
              "#7201a8"
             ],
             [
              0.3333333333333333,
              "#9c179e"
             ],
             [
              0.4444444444444444,
              "#bd3786"
             ],
             [
              0.5555555555555556,
              "#d8576b"
             ],
             [
              0.6666666666666666,
              "#ed7953"
             ],
             [
              0.7777777777777778,
              "#fb9f3a"
             ],
             [
              0.8888888888888888,
              "#fdca26"
             ],
             [
              1.0,
              "#f0f921"
             ]
            ]
           }
          ],
          "contourcarpet": [
           {
            "type": "contourcarpet",
            "colorbar": {
             "outlinewidth": 0,
             "ticks": ""
            }
           }
          ],
          "contour": [
           {
            "type": "contour",
            "colorbar": {
             "outlinewidth": 0,
             "ticks": ""
            },
            "colorscale": [
             [
              0.0,
              "#0d0887"
             ],
             [
              0.1111111111111111,
              "#46039f"
             ],
             [
              0.2222222222222222,
              "#7201a8"
             ],
             [
              0.3333333333333333,
              "#9c179e"
             ],
             [
              0.4444444444444444,
              "#bd3786"
             ],
             [
              0.5555555555555556,
              "#d8576b"
             ],
             [
              0.6666666666666666,
              "#ed7953"
             ],
             [
              0.7777777777777778,
              "#fb9f3a"
             ],
             [
              0.8888888888888888,
              "#fdca26"
             ],
             [
              1.0,
              "#f0f921"
             ]
            ]
           }
          ],
          "surface": [
           {
            "type": "surface",
            "colorbar": {
             "outlinewidth": 0,
             "ticks": ""
            },
            "colorscale": [
             [
              0.0,
              "#0d0887"
             ],
             [
              0.1111111111111111,
              "#46039f"
             ],
             [
              0.2222222222222222,
              "#7201a8"
             ],
             [
              0.3333333333333333,
              "#9c179e"
             ],
             [
              0.4444444444444444,
              "#bd3786"
             ],
             [
              0.5555555555555556,
              "#d8576b"
             ],
             [
              0.6666666666666666,
              "#ed7953"
             ],
             [
              0.7777777777777778,
              "#fb9f3a"
             ],
             [
              0.8888888888888888,
              "#fdca26"
             ],
             [
              1.0,
              "#f0f921"
             ]
            ]
           }
          ],
          "mesh3d": [
           {
            "type": "mesh3d",
            "colorbar": {
             "outlinewidth": 0,
             "ticks": ""
            }
           }
          ],
          "scatter": [
           {
            "fillpattern": {
             "fillmode": "overlay",
             "size": 10,
             "solidity": 0.2
            },
            "type": "scatter"
           }
          ],
          "parcoords": [
           {
            "type": "parcoords",
            "line": {
             "colorbar": {
              "outlinewidth": 0,
              "ticks": ""
             }
            }
           }
          ],
          "scatterpolargl": [
           {
            "type": "scatterpolargl",
            "marker": {
             "colorbar": {
              "outlinewidth": 0,
              "ticks": ""
             }
            }
           }
          ],
          "bar": [
           {
            "error_x": {
             "color": "#2a3f5f"
            },
            "error_y": {
             "color": "#2a3f5f"
            },
            "marker": {
             "line": {
              "color": "#E5ECF6",
              "width": 0.5
             },
             "pattern": {
              "fillmode": "overlay",
              "size": 10,
              "solidity": 0.2
             }
            },
            "type": "bar"
           }
          ],
          "scattergeo": [
           {
            "type": "scattergeo",
            "marker": {
             "colorbar": {
              "outlinewidth": 0,
              "ticks": ""
             }
            }
           }
          ],
          "scatterpolar": [
           {
            "type": "scatterpolar",
            "marker": {
             "colorbar": {
              "outlinewidth": 0,
              "ticks": ""
             }
            }
           }
          ],
          "histogram": [
           {
            "marker": {
             "pattern": {
              "fillmode": "overlay",
              "size": 10,
              "solidity": 0.2
             }
            },
            "type": "histogram"
           }
          ],
          "scattergl": [
           {
            "type": "scattergl",
            "marker": {
             "colorbar": {
              "outlinewidth": 0,
              "ticks": ""
             }
            }
           }
          ],
          "scatter3d": [
           {
            "type": "scatter3d",
            "line": {
             "colorbar": {
              "outlinewidth": 0,
              "ticks": ""
             }
            },
            "marker": {
             "colorbar": {
              "outlinewidth": 0,
              "ticks": ""
             }
            }
           }
          ],
          "scattermapbox": [
           {
            "type": "scattermapbox",
            "marker": {
             "colorbar": {
              "outlinewidth": 0,
              "ticks": ""
             }
            }
           }
          ],
          "scatterternary": [
           {
            "type": "scatterternary",
            "marker": {
             "colorbar": {
              "outlinewidth": 0,
              "ticks": ""
             }
            }
           }
          ],
          "scattercarpet": [
           {
            "type": "scattercarpet",
            "marker": {
             "colorbar": {
              "outlinewidth": 0,
              "ticks": ""
             }
            }
           }
          ],
          "carpet": [
           {
            "aaxis": {
             "endlinecolor": "#2a3f5f",
             "gridcolor": "white",
             "linecolor": "white",
             "minorgridcolor": "white",
             "startlinecolor": "#2a3f5f"
            },
            "baxis": {
             "endlinecolor": "#2a3f5f",
             "gridcolor": "white",
             "linecolor": "white",
             "minorgridcolor": "white",
             "startlinecolor": "#2a3f5f"
            },
            "type": "carpet"
           }
          ],
          "table": [
           {
            "cells": {
             "fill": {
              "color": "#EBF0F8"
             },
             "line": {
              "color": "white"
             }
            },
            "header": {
             "fill": {
              "color": "#C8D4E3"
             },
             "line": {
              "color": "white"
             }
            },
            "type": "table"
           }
          ],
          "barpolar": [
           {
            "marker": {
             "line": {
              "color": "#E5ECF6",
              "width": 0.5
             },
             "pattern": {
              "fillmode": "overlay",
              "size": 10,
              "solidity": 0.2
             }
            },
            "type": "barpolar"
           }
          ],
          "pie": [
           {
            "automargin": true,
            "type": "pie"
           }
          ]
         },
         "layout": {
          "autotypenumbers": "strict",
          "colorway": [
           "#636efa",
           "#EF553B",
           "#00cc96",
           "#ab63fa",
           "#FFA15A",
           "#19d3f3",
           "#FF6692",
           "#B6E880",
           "#FF97FF",
           "#FECB52"
          ],
          "font": {
           "color": "#2a3f5f"
          },
          "hovermode": "closest",
          "hoverlabel": {
           "align": "left"
          },
          "paper_bgcolor": "white",
          "plot_bgcolor": "#E5ECF6",
          "polar": {
           "bgcolor": "#E5ECF6",
           "angularaxis": {
            "gridcolor": "white",
            "linecolor": "white",
            "ticks": ""
           },
           "radialaxis": {
            "gridcolor": "white",
            "linecolor": "white",
            "ticks": ""
           }
          },
          "ternary": {
           "bgcolor": "#E5ECF6",
           "aaxis": {
            "gridcolor": "white",
            "linecolor": "white",
            "ticks": ""
           },
           "baxis": {
            "gridcolor": "white",
            "linecolor": "white",
            "ticks": ""
           },
           "caxis": {
            "gridcolor": "white",
            "linecolor": "white",
            "ticks": ""
           }
          },
          "coloraxis": {
           "colorbar": {
            "outlinewidth": 0,
            "ticks": ""
           }
          },
          "colorscale": {
           "sequential": [
            [
             0.0,
             "#0d0887"
            ],
            [
             0.1111111111111111,
             "#46039f"
            ],
            [
             0.2222222222222222,
             "#7201a8"
            ],
            [
             0.3333333333333333,
             "#9c179e"
            ],
            [
             0.4444444444444444,
             "#bd3786"
            ],
            [
             0.5555555555555556,
             "#d8576b"
            ],
            [
             0.6666666666666666,
             "#ed7953"
            ],
            [
             0.7777777777777778,
             "#fb9f3a"
            ],
            [
             0.8888888888888888,
             "#fdca26"
            ],
            [
             1.0,
             "#f0f921"
            ]
           ],
           "sequentialminus": [
            [
             0.0,
             "#0d0887"
            ],
            [
             0.1111111111111111,
             "#46039f"
            ],
            [
             0.2222222222222222,
             "#7201a8"
            ],
            [
             0.3333333333333333,
             "#9c179e"
            ],
            [
             0.4444444444444444,
             "#bd3786"
            ],
            [
             0.5555555555555556,
             "#d8576b"
            ],
            [
             0.6666666666666666,
             "#ed7953"
            ],
            [
             0.7777777777777778,
             "#fb9f3a"
            ],
            [
             0.8888888888888888,
             "#fdca26"
            ],
            [
             1.0,
             "#f0f921"
            ]
           ],
           "diverging": [
            [
             0,
             "#8e0152"
            ],
            [
             0.1,
             "#c51b7d"
            ],
            [
             0.2,
             "#de77ae"
            ],
            [
             0.3,
             "#f1b6da"
            ],
            [
             0.4,
             "#fde0ef"
            ],
            [
             0.5,
             "#f7f7f7"
            ],
            [
             0.6,
             "#e6f5d0"
            ],
            [
             0.7,
             "#b8e186"
            ],
            [
             0.8,
             "#7fbc41"
            ],
            [
             0.9,
             "#4d9221"
            ],
            [
             1,
             "#276419"
            ]
           ]
          },
          "xaxis": {
           "gridcolor": "white",
           "linecolor": "white",
           "ticks": "",
           "title": {
            "standoff": 15
           },
           "zerolinecolor": "white",
           "automargin": true,
           "zerolinewidth": 2
          },
          "yaxis": {
           "gridcolor": "white",
           "linecolor": "white",
           "ticks": "",
           "title": {
            "standoff": 15
           },
           "zerolinecolor": "white",
           "automargin": true,
           "zerolinewidth": 2
          },
          "scene": {
           "xaxis": {
            "backgroundcolor": "#E5ECF6",
            "gridcolor": "white",
            "linecolor": "white",
            "showbackground": true,
            "ticks": "",
            "zerolinecolor": "white",
            "gridwidth": 2
           },
           "yaxis": {
            "backgroundcolor": "#E5ECF6",
            "gridcolor": "white",
            "linecolor": "white",
            "showbackground": true,
            "ticks": "",
            "zerolinecolor": "white",
            "gridwidth": 2
           },
           "zaxis": {
            "backgroundcolor": "#E5ECF6",
            "gridcolor": "white",
            "linecolor": "white",
            "showbackground": true,
            "ticks": "",
            "zerolinecolor": "white",
            "gridwidth": 2
           }
          },
          "shapedefaults": {
           "line": {
            "color": "#2a3f5f"
           }
          },
          "annotationdefaults": {
           "arrowcolor": "#2a3f5f",
           "arrowhead": 0,
           "arrowwidth": 1
          },
          "geo": {
           "bgcolor": "white",
           "landcolor": "#E5ECF6",
           "subunitcolor": "white",
           "showland": true,
           "showlakes": true,
           "lakecolor": "white"
          },
          "title": {
           "x": 0.05
          },
          "mapbox": {
           "style": "light"
          }
         }
        },
        "scene": {
         "xaxis": {
          "title": {
           "text": "cm"
          }
         },
         "yaxis": {
          "title": {
           "text": "cm"
          }
         },
         "zaxis": {
          "title": {
           "text": "cm"
          }
         },
         "aspectmode": "data"
        },
        "title": {
         "text": "F79"
        }
       },
       "config": {
        "plotlyServerURL": "https://plot.ly"
       }
      },
      "text/html": [
       "<div>                            <div id=\"2752ed36-b5a1-4f7c-b552-3b0da1cb9ed1\" class=\"plotly-graph-div\" style=\"height:525px; width:100%;\"></div>            <script type=\"text/javascript\">                require([\"plotly\"], function(Plotly) {                    window.PLOTLYENV=window.PLOTLYENV || {};                                    if (document.getElementById(\"2752ed36-b5a1-4f7c-b552-3b0da1cb9ed1\")) {                    Plotly.newPlot(                        \"2752ed36-b5a1-4f7c-b552-3b0da1cb9ed1\",                        [{\"color\":\"black\",\"i\":[0,1,2],\"j\":[1,2,3],\"k\":[2,3,0],\"opacity\":0.2,\"x\":[0,36.0,36.0,0],\"y\":[0,0,31.0,31.0],\"z\":[0,0,0,0],\"type\":\"mesh3d\"},{\"color\":\"black\",\"i\":[0,1,2],\"j\":[1,2,3],\"k\":[2,3,0],\"opacity\":0.2,\"x\":[0,36.0,36.0,0],\"y\":[0,0,31.0,31.0],\"z\":[12.0,12.0,12.0,12.0],\"type\":\"mesh3d\"},{\"color\":\"black\",\"i\":[0,1,2],\"j\":[1,2,3],\"k\":[2,3,0],\"opacity\":0.2,\"x\":[0,36.0,36.0,0],\"y\":[0,0,0,0],\"z\":[0,0,12.0,12.0],\"type\":\"mesh3d\"},{\"color\":\"black\",\"i\":[0,1,2],\"j\":[1,2,3],\"k\":[2,3,0],\"opacity\":0.2,\"x\":[36.0,0,0,36.0],\"y\":[31.0,31.0,31.0,31.0],\"z\":[0,0,12.0,12.0],\"type\":\"mesh3d\"},{\"color\":\"black\",\"i\":[0,1,2],\"j\":[1,2,3],\"k\":[2,3,0],\"opacity\":0.2,\"x\":[0,0,0,0],\"y\":[0,31.0,31.0,0],\"z\":[0,0,12.0,12.0],\"type\":\"mesh3d\"},{\"color\":\"black\",\"i\":[0,1,2],\"j\":[1,2,3],\"k\":[2,3,0],\"opacity\":0.2,\"x\":[36.0,36.0,36.0,36.0],\"y\":[0,31.0,31.0,0],\"z\":[0,0,12.0,12.0],\"type\":\"mesh3d\"},{\"color\":\"#FFFF00\",\"i\":[0,1,2],\"j\":[1,2,3],\"k\":[2,3,0],\"opacity\":0.2,\"x\":[0,26.0,26.0,0],\"y\":[0,0,8.0,8.0],\"z\":[0,0,0,0],\"type\":\"mesh3d\"},{\"color\":\"#FFFF00\",\"i\":[0,1,2],\"j\":[1,2,3],\"k\":[2,3,0],\"opacity\":0.2,\"x\":[0,26.0,26.0,0],\"y\":[0,0,8.0,8.0],\"z\":[8.0,8.0,8.0,8.0],\"type\":\"mesh3d\"},{\"color\":\"#FFFF00\",\"i\":[0,1,2],\"j\":[1,2,3],\"k\":[2,3,0],\"opacity\":0.2,\"x\":[0,26.0,26.0,0],\"y\":[0,0,0,0],\"z\":[0,0,8.0,8.0],\"type\":\"mesh3d\"},{\"color\":\"#FFFF00\",\"i\":[0,1,2],\"j\":[1,2,3],\"k\":[2,3,0],\"opacity\":0.2,\"x\":[26.0,0,0,26.0],\"y\":[8.0,8.0,8.0,8.0],\"z\":[0,0,8.0,8.0],\"type\":\"mesh3d\"},{\"color\":\"#FFFF00\",\"i\":[0,1,2],\"j\":[1,2,3],\"k\":[2,3,0],\"opacity\":0.2,\"x\":[0,0,0,0],\"y\":[0,8.0,8.0,0],\"z\":[0,0,8.0,8.0],\"type\":\"mesh3d\"},{\"color\":\"#FFFF00\",\"i\":[0,1,2],\"j\":[1,2,3],\"k\":[2,3,0],\"opacity\":0.2,\"x\":[26.0,26.0,26.0,26.0],\"y\":[0,8.0,8.0,0],\"z\":[0,0,8.0,8.0],\"type\":\"mesh3d\"},{\"mode\":\"text\",\"text\":[\"Water bottle\"],\"x\":[13.0],\"y\":[4.0],\"z\":[4.0],\"type\":\"scatter3d\"},{\"color\":\"#FF00FF\",\"i\":[0,1,2],\"j\":[1,2,3],\"k\":[2,3,0],\"opacity\":0.2,\"x\":[0,25.0,25.0,0],\"y\":[8.0,8.0,27.0,27.0],\"z\":[0,0,0,0],\"type\":\"mesh3d\"},{\"color\":\"#FF00FF\",\"i\":[0,1,2],\"j\":[1,2,3],\"k\":[2,3,0],\"opacity\":0.2,\"x\":[0,25.0,25.0,0],\"y\":[8.0,8.0,27.0,27.0],\"z\":[1.0,1.0,1.0,1.0],\"type\":\"mesh3d\"},{\"color\":\"#FF00FF\",\"i\":[0,1,2],\"j\":[1,2,3],\"k\":[2,3,0],\"opacity\":0.2,\"x\":[0,25.0,25.0,0],\"y\":[8.0,8.0,8.0,8.0],\"z\":[0,0,1.0,1.0],\"type\":\"mesh3d\"},{\"color\":\"#FF00FF\",\"i\":[0,1,2],\"j\":[1,2,3],\"k\":[2,3,0],\"opacity\":0.2,\"x\":[25.0,0,0,25.0],\"y\":[27.0,27.0,27.0,27.0],\"z\":[0,0,1.0,1.0],\"type\":\"mesh3d\"},{\"color\":\"#FF00FF\",\"i\":[0,1,2],\"j\":[1,2,3],\"k\":[2,3,0],\"opacity\":0.2,\"x\":[0,0,0,0],\"y\":[8.0,27.0,27.0,8.0],\"z\":[0,0,1.0,1.0],\"type\":\"mesh3d\"},{\"color\":\"#FF00FF\",\"i\":[0,1,2],\"j\":[1,2,3],\"k\":[2,3,0],\"opacity\":0.2,\"x\":[25.0,25.0,25.0,25.0],\"y\":[8.0,27.0,27.0,8.0],\"z\":[0,0,1.0,1.0],\"type\":\"mesh3d\"},{\"mode\":\"text\",\"text\":[\"T Shirt\"],\"x\":[12.5],\"y\":[17.5],\"z\":[0.5],\"type\":\"scatter3d\"},{\"color\":\"#FF0000\",\"i\":[0,1,2],\"j\":[1,2,3],\"k\":[2,3,0],\"opacity\":0.2,\"x\":[0,21.0,21.0,0],\"y\":[0,0,14.0,14.0],\"z\":[8.0,8.0,8.0,8.0],\"type\":\"mesh3d\"},{\"color\":\"#FF0000\",\"i\":[0,1,2],\"j\":[1,2,3],\"k\":[2,3,0],\"opacity\":0.2,\"x\":[0,21.0,21.0,0],\"y\":[0,0,14.0,14.0],\"z\":[9.0,9.0,9.0,9.0],\"type\":\"mesh3d\"},{\"color\":\"#FF0000\",\"i\":[0,1,2],\"j\":[1,2,3],\"k\":[2,3,0],\"opacity\":0.2,\"x\":[0,21.0,21.0,0],\"y\":[0,0,0,0],\"z\":[8.0,8.0,9.0,9.0],\"type\":\"mesh3d\"},{\"color\":\"#FF0000\",\"i\":[0,1,2],\"j\":[1,2,3],\"k\":[2,3,0],\"opacity\":0.2,\"x\":[21.0,0,0,21.0],\"y\":[14.0,14.0,14.0,14.0],\"z\":[8.0,8.0,9.0,9.0],\"type\":\"mesh3d\"},{\"color\":\"#FF0000\",\"i\":[0,1,2],\"j\":[1,2,3],\"k\":[2,3,0],\"opacity\":0.2,\"x\":[0,0,0,0],\"y\":[0,14.0,14.0,0],\"z\":[8.0,8.0,9.0,9.0],\"type\":\"mesh3d\"},{\"color\":\"#FF0000\",\"i\":[0,1,2],\"j\":[1,2,3],\"k\":[2,3,0],\"opacity\":0.2,\"x\":[21.0,21.0,21.0,21.0],\"y\":[0,14.0,14.0,0],\"z\":[8.0,8.0,9.0,9.0],\"type\":\"mesh3d\"},{\"mode\":\"text\",\"text\":[\"Notebook\"],\"x\":[10.5],\"y\":[7.0],\"z\":[8.5],\"type\":\"scatter3d\"},{\"color\":\"#b5b5b5\",\"i\":[0,1,2],\"j\":[1,2,3],\"k\":[2,3,0],\"opacity\":0.2,\"x\":[26.0,36.0,36.0,26.0],\"y\":[0,0,12.0,12.0],\"z\":[0,0,0,0],\"type\":\"mesh3d\"},{\"color\":\"#b5b5b5\",\"i\":[0,1,2],\"j\":[1,2,3],\"k\":[2,3,0],\"opacity\":0.2,\"x\":[26.0,36.0,36.0,26.0],\"y\":[0,0,12.0,12.0],\"z\":[10.0,10.0,10.0,10.0],\"type\":\"mesh3d\"},{\"color\":\"#b5b5b5\",\"i\":[0,1,2],\"j\":[1,2,3],\"k\":[2,3,0],\"opacity\":0.2,\"x\":[26.0,36.0,36.0,26.0],\"y\":[0,0,0,0],\"z\":[0,0,10.0,10.0],\"type\":\"mesh3d\"},{\"color\":\"#b5b5b5\",\"i\":[0,1,2],\"j\":[1,2,3],\"k\":[2,3,0],\"opacity\":0.2,\"x\":[36.0,26.0,26.0,36.0],\"y\":[12.0,12.0,12.0,12.0],\"z\":[0,0,10.0,10.0],\"type\":\"mesh3d\"},{\"color\":\"#b5b5b5\",\"i\":[0,1,2],\"j\":[1,2,3],\"k\":[2,3,0],\"opacity\":0.2,\"x\":[26.0,26.0,26.0,26.0],\"y\":[0,12.0,12.0,0],\"z\":[0,0,10.0,10.0],\"type\":\"mesh3d\"},{\"color\":\"#b5b5b5\",\"i\":[0,1,2],\"j\":[1,2,3],\"k\":[2,3,0],\"opacity\":0.2,\"x\":[36.0,36.0,36.0,36.0],\"y\":[0,12.0,12.0,0],\"z\":[0,0,10.0,10.0],\"type\":\"mesh3d\"},{\"mode\":\"text\",\"text\":[\"Mug\"],\"x\":[31.0],\"y\":[6.0],\"z\":[5.0],\"type\":\"scatter3d\"}],                        {\"template\":{\"data\":{\"histogram2dcontour\":[{\"type\":\"histogram2dcontour\",\"colorbar\":{\"outlinewidth\":0,\"ticks\":\"\"},\"colorscale\":[[0.0,\"#0d0887\"],[0.1111111111111111,\"#46039f\"],[0.2222222222222222,\"#7201a8\"],[0.3333333333333333,\"#9c179e\"],[0.4444444444444444,\"#bd3786\"],[0.5555555555555556,\"#d8576b\"],[0.6666666666666666,\"#ed7953\"],[0.7777777777777778,\"#fb9f3a\"],[0.8888888888888888,\"#fdca26\"],[1.0,\"#f0f921\"]]}],\"choropleth\":[{\"type\":\"choropleth\",\"colorbar\":{\"outlinewidth\":0,\"ticks\":\"\"}}],\"histogram2d\":[{\"type\":\"histogram2d\",\"colorbar\":{\"outlinewidth\":0,\"ticks\":\"\"},\"colorscale\":[[0.0,\"#0d0887\"],[0.1111111111111111,\"#46039f\"],[0.2222222222222222,\"#7201a8\"],[0.3333333333333333,\"#9c179e\"],[0.4444444444444444,\"#bd3786\"],[0.5555555555555556,\"#d8576b\"],[0.6666666666666666,\"#ed7953\"],[0.7777777777777778,\"#fb9f3a\"],[0.8888888888888888,\"#fdca26\"],[1.0,\"#f0f921\"]]}],\"heatmap\":[{\"type\":\"heatmap\",\"colorbar\":{\"outlinewidth\":0,\"ticks\":\"\"},\"colorscale\":[[0.0,\"#0d0887\"],[0.1111111111111111,\"#46039f\"],[0.2222222222222222,\"#7201a8\"],[0.3333333333333333,\"#9c179e\"],[0.4444444444444444,\"#bd3786\"],[0.5555555555555556,\"#d8576b\"],[0.6666666666666666,\"#ed7953\"],[0.7777777777777778,\"#fb9f3a\"],[0.8888888888888888,\"#fdca26\"],[1.0,\"#f0f921\"]]}],\"heatmapgl\":[{\"type\":\"heatmapgl\",\"colorbar\":{\"outlinewidth\":0,\"ticks\":\"\"},\"colorscale\":[[0.0,\"#0d0887\"],[0.1111111111111111,\"#46039f\"],[0.2222222222222222,\"#7201a8\"],[0.3333333333333333,\"#9c179e\"],[0.4444444444444444,\"#bd3786\"],[0.5555555555555556,\"#d8576b\"],[0.6666666666666666,\"#ed7953\"],[0.7777777777777778,\"#fb9f3a\"],[0.8888888888888888,\"#fdca26\"],[1.0,\"#f0f921\"]]}],\"contourcarpet\":[{\"type\":\"contourcarpet\",\"colorbar\":{\"outlinewidth\":0,\"ticks\":\"\"}}],\"contour\":[{\"type\":\"contour\",\"colorbar\":{\"outlinewidth\":0,\"ticks\":\"\"},\"colorscale\":[[0.0,\"#0d0887\"],[0.1111111111111111,\"#46039f\"],[0.2222222222222222,\"#7201a8\"],[0.3333333333333333,\"#9c179e\"],[0.4444444444444444,\"#bd3786\"],[0.5555555555555556,\"#d8576b\"],[0.6666666666666666,\"#ed7953\"],[0.7777777777777778,\"#fb9f3a\"],[0.8888888888888888,\"#fdca26\"],[1.0,\"#f0f921\"]]}],\"surface\":[{\"type\":\"surface\",\"colorbar\":{\"outlinewidth\":0,\"ticks\":\"\"},\"colorscale\":[[0.0,\"#0d0887\"],[0.1111111111111111,\"#46039f\"],[0.2222222222222222,\"#7201a8\"],[0.3333333333333333,\"#9c179e\"],[0.4444444444444444,\"#bd3786\"],[0.5555555555555556,\"#d8576b\"],[0.6666666666666666,\"#ed7953\"],[0.7777777777777778,\"#fb9f3a\"],[0.8888888888888888,\"#fdca26\"],[1.0,\"#f0f921\"]]}],\"mesh3d\":[{\"type\":\"mesh3d\",\"colorbar\":{\"outlinewidth\":0,\"ticks\":\"\"}}],\"scatter\":[{\"fillpattern\":{\"fillmode\":\"overlay\",\"size\":10,\"solidity\":0.2},\"type\":\"scatter\"}],\"parcoords\":[{\"type\":\"parcoords\",\"line\":{\"colorbar\":{\"outlinewidth\":0,\"ticks\":\"\"}}}],\"scatterpolargl\":[{\"type\":\"scatterpolargl\",\"marker\":{\"colorbar\":{\"outlinewidth\":0,\"ticks\":\"\"}}}],\"bar\":[{\"error_x\":{\"color\":\"#2a3f5f\"},\"error_y\":{\"color\":\"#2a3f5f\"},\"marker\":{\"line\":{\"color\":\"#E5ECF6\",\"width\":0.5},\"pattern\":{\"fillmode\":\"overlay\",\"size\":10,\"solidity\":0.2}},\"type\":\"bar\"}],\"scattergeo\":[{\"type\":\"scattergeo\",\"marker\":{\"colorbar\":{\"outlinewidth\":0,\"ticks\":\"\"}}}],\"scatterpolar\":[{\"type\":\"scatterpolar\",\"marker\":{\"colorbar\":{\"outlinewidth\":0,\"ticks\":\"\"}}}],\"histogram\":[{\"marker\":{\"pattern\":{\"fillmode\":\"overlay\",\"size\":10,\"solidity\":0.2}},\"type\":\"histogram\"}],\"scattergl\":[{\"type\":\"scattergl\",\"marker\":{\"colorbar\":{\"outlinewidth\":0,\"ticks\":\"\"}}}],\"scatter3d\":[{\"type\":\"scatter3d\",\"line\":{\"colorbar\":{\"outlinewidth\":0,\"ticks\":\"\"}},\"marker\":{\"colorbar\":{\"outlinewidth\":0,\"ticks\":\"\"}}}],\"scattermapbox\":[{\"type\":\"scattermapbox\",\"marker\":{\"colorbar\":{\"outlinewidth\":0,\"ticks\":\"\"}}}],\"scatterternary\":[{\"type\":\"scatterternary\",\"marker\":{\"colorbar\":{\"outlinewidth\":0,\"ticks\":\"\"}}}],\"scattercarpet\":[{\"type\":\"scattercarpet\",\"marker\":{\"colorbar\":{\"outlinewidth\":0,\"ticks\":\"\"}}}],\"carpet\":[{\"aaxis\":{\"endlinecolor\":\"#2a3f5f\",\"gridcolor\":\"white\",\"linecolor\":\"white\",\"minorgridcolor\":\"white\",\"startlinecolor\":\"#2a3f5f\"},\"baxis\":{\"endlinecolor\":\"#2a3f5f\",\"gridcolor\":\"white\",\"linecolor\":\"white\",\"minorgridcolor\":\"white\",\"startlinecolor\":\"#2a3f5f\"},\"type\":\"carpet\"}],\"table\":[{\"cells\":{\"fill\":{\"color\":\"#EBF0F8\"},\"line\":{\"color\":\"white\"}},\"header\":{\"fill\":{\"color\":\"#C8D4E3\"},\"line\":{\"color\":\"white\"}},\"type\":\"table\"}],\"barpolar\":[{\"marker\":{\"line\":{\"color\":\"#E5ECF6\",\"width\":0.5},\"pattern\":{\"fillmode\":\"overlay\",\"size\":10,\"solidity\":0.2}},\"type\":\"barpolar\"}],\"pie\":[{\"automargin\":true,\"type\":\"pie\"}]},\"layout\":{\"autotypenumbers\":\"strict\",\"colorway\":[\"#636efa\",\"#EF553B\",\"#00cc96\",\"#ab63fa\",\"#FFA15A\",\"#19d3f3\",\"#FF6692\",\"#B6E880\",\"#FF97FF\",\"#FECB52\"],\"font\":{\"color\":\"#2a3f5f\"},\"hovermode\":\"closest\",\"hoverlabel\":{\"align\":\"left\"},\"paper_bgcolor\":\"white\",\"plot_bgcolor\":\"#E5ECF6\",\"polar\":{\"bgcolor\":\"#E5ECF6\",\"angularaxis\":{\"gridcolor\":\"white\",\"linecolor\":\"white\",\"ticks\":\"\"},\"radialaxis\":{\"gridcolor\":\"white\",\"linecolor\":\"white\",\"ticks\":\"\"}},\"ternary\":{\"bgcolor\":\"#E5ECF6\",\"aaxis\":{\"gridcolor\":\"white\",\"linecolor\":\"white\",\"ticks\":\"\"},\"baxis\":{\"gridcolor\":\"white\",\"linecolor\":\"white\",\"ticks\":\"\"},\"caxis\":{\"gridcolor\":\"white\",\"linecolor\":\"white\",\"ticks\":\"\"}},\"coloraxis\":{\"colorbar\":{\"outlinewidth\":0,\"ticks\":\"\"}},\"colorscale\":{\"sequential\":[[0.0,\"#0d0887\"],[0.1111111111111111,\"#46039f\"],[0.2222222222222222,\"#7201a8\"],[0.3333333333333333,\"#9c179e\"],[0.4444444444444444,\"#bd3786\"],[0.5555555555555556,\"#d8576b\"],[0.6666666666666666,\"#ed7953\"],[0.7777777777777778,\"#fb9f3a\"],[0.8888888888888888,\"#fdca26\"],[1.0,\"#f0f921\"]],\"sequentialminus\":[[0.0,\"#0d0887\"],[0.1111111111111111,\"#46039f\"],[0.2222222222222222,\"#7201a8\"],[0.3333333333333333,\"#9c179e\"],[0.4444444444444444,\"#bd3786\"],[0.5555555555555556,\"#d8576b\"],[0.6666666666666666,\"#ed7953\"],[0.7777777777777778,\"#fb9f3a\"],[0.8888888888888888,\"#fdca26\"],[1.0,\"#f0f921\"]],\"diverging\":[[0,\"#8e0152\"],[0.1,\"#c51b7d\"],[0.2,\"#de77ae\"],[0.3,\"#f1b6da\"],[0.4,\"#fde0ef\"],[0.5,\"#f7f7f7\"],[0.6,\"#e6f5d0\"],[0.7,\"#b8e186\"],[0.8,\"#7fbc41\"],[0.9,\"#4d9221\"],[1,\"#276419\"]]},\"xaxis\":{\"gridcolor\":\"white\",\"linecolor\":\"white\",\"ticks\":\"\",\"title\":{\"standoff\":15},\"zerolinecolor\":\"white\",\"automargin\":true,\"zerolinewidth\":2},\"yaxis\":{\"gridcolor\":\"white\",\"linecolor\":\"white\",\"ticks\":\"\",\"title\":{\"standoff\":15},\"zerolinecolor\":\"white\",\"automargin\":true,\"zerolinewidth\":2},\"scene\":{\"xaxis\":{\"backgroundcolor\":\"#E5ECF6\",\"gridcolor\":\"white\",\"linecolor\":\"white\",\"showbackground\":true,\"ticks\":\"\",\"zerolinecolor\":\"white\",\"gridwidth\":2},\"yaxis\":{\"backgroundcolor\":\"#E5ECF6\",\"gridcolor\":\"white\",\"linecolor\":\"white\",\"showbackground\":true,\"ticks\":\"\",\"zerolinecolor\":\"white\",\"gridwidth\":2},\"zaxis\":{\"backgroundcolor\":\"#E5ECF6\",\"gridcolor\":\"white\",\"linecolor\":\"white\",\"showbackground\":true,\"ticks\":\"\",\"zerolinecolor\":\"white\",\"gridwidth\":2}},\"shapedefaults\":{\"line\":{\"color\":\"#2a3f5f\"}},\"annotationdefaults\":{\"arrowcolor\":\"#2a3f5f\",\"arrowhead\":0,\"arrowwidth\":1},\"geo\":{\"bgcolor\":\"white\",\"landcolor\":\"#E5ECF6\",\"subunitcolor\":\"white\",\"showland\":true,\"showlakes\":true,\"lakecolor\":\"white\"},\"title\":{\"x\":0.05},\"mapbox\":{\"style\":\"light\"}}},\"scene\":{\"xaxis\":{\"title\":{\"text\":\"cm\"}},\"yaxis\":{\"title\":{\"text\":\"cm\"}},\"zaxis\":{\"title\":{\"text\":\"cm\"}},\"aspectmode\":\"data\"},\"title\":{\"text\":\"F79\"}},                        {\"responsive\": true}                    ).then(function(){\n",
       "                            \n",
       "var gd = document.getElementById('2752ed36-b5a1-4f7c-b552-3b0da1cb9ed1');\n",
       "var x = new MutationObserver(function (mutations, observer) {{\n",
       "        var display = window.getComputedStyle(gd).display;\n",
       "        if (!display || display === 'none') {{\n",
       "            console.log([gd, 'removed!']);\n",
       "            Plotly.purge(gd);\n",
       "            observer.disconnect();\n",
       "        }}\n",
       "}});\n",
       "\n",
       "// Listen for the removal of the full notebook cells\n",
       "var notebookContainer = gd.closest('#notebook-container');\n",
       "if (notebookContainer) {{\n",
       "    x.observe(notebookContainer, {childList: true});\n",
       "}}\n",
       "\n",
       "// Listen for the clearing of the current output cell\n",
       "var outputEl = gd.closest('.output');\n",
       "if (outputEl) {{\n",
       "    x.observe(outputEl, {childList: true});\n",
       "}}\n",
       "\n",
       "                        })                };                });            </script>        </div>"
      ]
     },
     "metadata": {},
     "output_type": "display_data"
    },
    {
     "ename": "AttributeError",
     "evalue": "'NoneType' object has no attribute 'show'",
     "output_type": "error",
     "traceback": [
      "\u001B[0;31m---------------------------------------------------------------------------\u001B[0m",
      "\u001B[0;31mAttributeError\u001B[0m                            Traceback (most recent call last)",
      "Cell \u001B[0;32mIn[106], line 3\u001B[0m\n\u001B[1;32m      1\u001B[0m painter \u001B[38;5;241m=\u001B[39m AlexPainter(\u001B[38;5;28mbin\u001B[39m)\n\u001B[1;32m      2\u001B[0m fig \u001B[38;5;241m=\u001B[39m painter\u001B[38;5;241m.\u001B[39mplotBoxAndItems(title\u001B[38;5;241m=\u001B[39m\u001B[38;5;28mbin\u001B[39m\u001B[38;5;241m.\u001B[39mpartno, alpha\u001B[38;5;241m=\u001B[39m\u001B[38;5;241m0.2\u001B[39m, write_num\u001B[38;5;241m=\u001B[39m\u001B[38;5;28;01mTrue\u001B[39;00m)\n\u001B[0;32m----> 3\u001B[0m \u001B[43mfig\u001B[49m\u001B[38;5;241;43m.\u001B[39;49m\u001B[43mshow\u001B[49m()\n",
      "\u001B[0;31mAttributeError\u001B[0m: 'NoneType' object has no attribute 'show'"
     ]
    }
   ],
   "execution_count": 106
  },
  {
   "metadata": {},
   "cell_type": "code",
   "source": "",
   "id": "8329bfea7c99d4bb",
   "outputs": [],
   "execution_count": null
  }
 ],
 "metadata": {
  "kernelspec": {
   "display_name": "Python 3",
   "language": "python",
   "name": "python3"
  },
  "language_info": {
   "codemirror_mode": {
    "name": "ipython",
    "version": 2
   },
   "file_extension": ".py",
   "mimetype": "text/x-python",
   "name": "python",
   "nbconvert_exporter": "python",
   "pygments_lexer": "ipython2",
   "version": "2.7.6"
  }
 },
 "nbformat": 4,
 "nbformat_minor": 5
}
